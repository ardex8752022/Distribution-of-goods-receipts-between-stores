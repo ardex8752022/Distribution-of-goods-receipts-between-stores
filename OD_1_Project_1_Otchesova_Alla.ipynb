{
  "nbformat": 4,
  "nbformat_minor": 0,
  "metadata": {
    "kernelspec": {
      "display_name": "Python 3",
      "language": "python",
      "name": "python3"
    },
    "language_info": {
      "codemirror_mode": {
        "name": "ipython",
        "version": 3
      },
      "file_extension": ".py",
      "mimetype": "text/x-python",
      "name": "python",
      "nbconvert_exporter": "python",
      "pygments_lexer": "ipython3",
      "version": "3.8.5"
    },
    "colab": {
      "provenance": [],
      "include_colab_link": true
    }
  },
  "cells": [
    {
      "cell_type": "markdown",
      "metadata": {
        "id": "view-in-github",
        "colab_type": "text"
      },
      "source": [
        "<a href=\"https://colab.research.google.com/github/ardex8752022/Distribution-of-goods-receipts-between-stores/blob/main/OD_1_Project_1_Otchesova_Alla.ipynb\" target=\"_parent\"><img src=\"https://colab.research.google.com/assets/colab-badge.svg\" alt=\"Open In Colab\"/></a>"
      ]
    },
    {
      "cell_type": "markdown",
      "metadata": {
        "id": "eEuBfTEZVFtb"
      },
      "source": [
        "# САМОСТОЯТЕЛЬНАЯ РАБОТА"
      ]
    },
    {
      "cell_type": "markdown",
      "metadata": {
        "id": "qioNOhGbVFth"
      },
      "source": [
        "## Определяем количество ботов на сайте"
      ]
    },
    {
      "cell_type": "markdown",
      "metadata": {
        "id": "r4XVt58lVFtj"
      },
      "source": [
        "## Задачи:\n",
        "\n",
        "1.Оценить количество ботов, которые заходят на наш сайт, и их долю от всего трафика.  \n",
        "2.Определить, с каких источников и в какое время суток чаще всего заходят роботы."
      ]
    },
    {
      "cell_type": "markdown",
      "metadata": {
        "id": "usu_JUGKVFtl"
      },
      "source": [
        "Создаем словарь params,  период анализа: с 1 сентября 2020 года по 30 сентября 2020 года, используем семплирование."
      ]
    },
    {
      "cell_type": "code",
      "metadata": {
        "id": "F-t6HLkXVFtm"
      },
      "source": [
        "params = {'metrics': 'ym:s:visits,ym:s:robotPercentage',\n",
        "          'dimensions': 'ym:s:lastsignTrafficSource,ym:s:hour',\n",
        "          'date1': '2020-09-01',\n",
        "          'date2': '2020-09-30',\n",
        "          'ids': 30177909,\n",
        "          'accuracy':'full',\n",
        "          'limit':100000}"
      ],
      "execution_count": null,
      "outputs": []
    },
    {
      "cell_type": "markdown",
      "metadata": {
        "id": "jSEPp1NAVFtp"
      },
      "source": [
        "Задаем токен, создадем словарь headers, который будет содержать параметры заголовков HTTP"
      ]
    },
    {
      "cell_type": "code",
      "metadata": {
        "id": "T5SVoOhhVFtq"
      },
      "source": [
        "token = 'AQAAAAAHAHacAAdtgnqFPfiNIk_FswMq-l8xpq8'\n",
        "headers = {'Authorization': 'OAuth ' + token}"
      ],
      "execution_count": null,
      "outputs": []
    },
    {
      "cell_type": "markdown",
      "metadata": {
        "id": "4sY9niziVFtr"
      },
      "source": [
        "Импортируем необходимые библиотеки:"
      ]
    },
    {
      "cell_type": "code",
      "metadata": {
        "id": "7efsaH7lVFts"
      },
      "source": [
        "import json\n",
        "import requests\n",
        "from pprint import pprint\n",
        "import pandas as pd\n",
        "import numpy as np\n",
        "import matplotlib.pyplot as plt\n",
        "import seaborn as sns\n",
        "%matplotlib inline"
      ],
      "execution_count": null,
      "outputs": []
    },
    {
      "cell_type": "markdown",
      "metadata": {
        "id": "2-ZbcKynVFtu"
      },
      "source": [
        "Делаем запрос"
      ]
    },
    {
      "cell_type": "code",
      "metadata": {
        "colab": {
          "base_uri": "https://localhost:8080/"
        },
        "id": "397sbe8CVFtv",
        "outputId": "10b4f199-9687-4222-a61f-5eed0f562c88"
      },
      "source": [
        "response = requests.get('https://api-metrika.yandex.net/stat/v1/data', params=params, headers=headers)\n",
        "print (response.status_code)"
      ],
      "execution_count": null,
      "outputs": [
        {
          "output_type": "stream",
          "name": "stdout",
          "text": [
            "200\n"
          ]
        }
      ]
    },
    {
      "cell_type": "markdown",
      "metadata": {
        "id": "U_3W5homVFty"
      },
      "source": [
        "Создаем переменную bots_data"
      ]
    },
    {
      "cell_type": "code",
      "metadata": {
        "id": "MBYaJvC3VFt0"
      },
      "source": [
        "bots_data = response.json()"
      ],
      "execution_count": null,
      "outputs": []
    },
    {
      "cell_type": "markdown",
      "metadata": {
        "id": "bf7PBaIEVFt0"
      },
      "source": [
        "Посмотрим, какого типа данные хранятся в объекте metrika_data:"
      ]
    },
    {
      "cell_type": "code",
      "metadata": {
        "colab": {
          "base_uri": "https://localhost:8080/"
        },
        "id": "DvBOVWHuVFt1",
        "outputId": "99188faa-abf4-4d06-85b8-59c5605056ab"
      },
      "source": [
        "print(type(bots_data))"
      ],
      "execution_count": null,
      "outputs": [
        {
          "output_type": "stream",
          "name": "stdout",
          "text": [
            "<class 'dict'>\n"
          ]
        }
      ]
    },
    {
      "cell_type": "markdown",
      "metadata": {
        "id": "J4ZG161WVFt2"
      },
      "source": [
        "Проверяем список ключей"
      ]
    },
    {
      "cell_type": "code",
      "metadata": {
        "colab": {
          "base_uri": "https://localhost:8080/"
        },
        "id": "RoFKzdCEVFt3",
        "outputId": "06e699c8-06e4-4266-e044-7e27125859ea"
      },
      "source": [
        "print(bots_data.keys())"
      ],
      "execution_count": null,
      "outputs": [
        {
          "output_type": "stream",
          "name": "stdout",
          "text": [
            "dict_keys(['query', 'data', 'total_rows', 'total_rows_rounded', 'sampled', 'contains_sensitive_data', 'sample_share', 'sample_size', 'sample_space', 'data_lag', 'totals', 'min', 'max'])\n"
          ]
        }
      ]
    },
    {
      "cell_type": "markdown",
      "metadata": {
        "id": "IyNjpl7EVFt4"
      },
      "source": [
        "Проверяем количество строк в словаре"
      ]
    },
    {
      "cell_type": "code",
      "metadata": {
        "colab": {
          "base_uri": "https://localhost:8080/"
        },
        "id": "3Q-8ZJWuVFt5",
        "outputId": "1f15d9e9-3df1-4958-8f1a-48a578b7b339"
      },
      "source": [
        "bots_data['total_rows']"
      ],
      "execution_count": null,
      "outputs": [
        {
          "output_type": "execute_result",
          "data": {
            "text/plain": [
              "107"
            ]
          },
          "metadata": {},
          "execution_count": 8
        }
      ]
    },
    {
      "cell_type": "markdown",
      "metadata": {
        "id": "Us6GnxneVFt6"
      },
      "source": [
        "Cмотрим на данные статистики. Для этого с помощью pprint выведем значение по ключу data в словаре bots_data:"
      ]
    },
    {
      "cell_type": "code",
      "metadata": {
        "colab": {
          "base_uri": "https://localhost:8080/"
        },
        "id": "LZE4lsTNVFt7",
        "outputId": "8e552e1e-e700-426d-bc73-91350e5844ac"
      },
      "source": [
        "pprint(bots_data['data'][0:5])"
      ],
      "execution_count": null,
      "outputs": [
        {
          "output_type": "stream",
          "name": "stdout",
          "text": [
            "[{'dimensions': [{'icon_id': '2',\n",
            "                  'icon_type': 'traffic-source',\n",
            "                  'id': 'organic',\n",
            "                  'name': 'Search engine traffic'},\n",
            "                 {'id': '16', 'name': '16:00'}],\n",
            "  'metrics': [251.0, 24.70119522]},\n",
            " {'dimensions': [{'icon_id': '2',\n",
            "                  'icon_type': 'traffic-source',\n",
            "                  'id': 'organic',\n",
            "                  'name': 'Search engine traffic'},\n",
            "                 {'id': '15', 'name': '15:00'}],\n",
            "  'metrics': [240.0, 26.25]},\n",
            " {'dimensions': [{'icon_id': '2',\n",
            "                  'icon_type': 'traffic-source',\n",
            "                  'id': 'organic',\n",
            "                  'name': 'Search engine traffic'},\n",
            "                 {'id': '11', 'name': '11:00'}],\n",
            "  'metrics': [228.0, 25.87719298]},\n",
            " {'dimensions': [{'icon_id': '2',\n",
            "                  'icon_type': 'traffic-source',\n",
            "                  'id': 'organic',\n",
            "                  'name': 'Search engine traffic'},\n",
            "                 {'id': '13', 'name': '13:00'}],\n",
            "  'metrics': [227.0, 28.1938326]},\n",
            " {'dimensions': [{'icon_id': '2',\n",
            "                  'icon_type': 'traffic-source',\n",
            "                  'id': 'organic',\n",
            "                  'name': 'Search engine traffic'},\n",
            "                 {'id': '12', 'name': '12:00'}],\n",
            "  'metrics': [225.0, 24.88888889]}]\n"
          ]
        }
      ]
    },
    {
      "cell_type": "markdown",
      "metadata": {
        "id": "Ua5soMlcVFt8"
      },
      "source": [
        "Cоздадем датафрейм metrika_df из данных статистики metrika_data['data']:"
      ]
    },
    {
      "cell_type": "code",
      "metadata": {
        "colab": {
          "base_uri": "https://localhost:8080/",
          "height": 359
        },
        "id": "4Bkn686xVFt9",
        "outputId": "037787ce-79ee-4ce3-c0f2-c568a6fe228f"
      },
      "source": [
        "bots_df = pd.DataFrame(bots_data['data'])\n",
        "display(bots_df.head(10))"
      ],
      "execution_count": null,
      "outputs": [
        {
          "output_type": "display_data",
          "data": {
            "text/html": [
              "<div>\n",
              "<style scoped>\n",
              "    .dataframe tbody tr th:only-of-type {\n",
              "        vertical-align: middle;\n",
              "    }\n",
              "\n",
              "    .dataframe tbody tr th {\n",
              "        vertical-align: top;\n",
              "    }\n",
              "\n",
              "    .dataframe thead th {\n",
              "        text-align: right;\n",
              "    }\n",
              "</style>\n",
              "<table border=\"1\" class=\"dataframe\">\n",
              "  <thead>\n",
              "    <tr style=\"text-align: right;\">\n",
              "      <th></th>\n",
              "      <th>dimensions</th>\n",
              "      <th>metrics</th>\n",
              "    </tr>\n",
              "  </thead>\n",
              "  <tbody>\n",
              "    <tr>\n",
              "      <th>0</th>\n",
              "      <td>[{'icon_id': '2', 'icon_type': 'traffic-source...</td>\n",
              "      <td>[251.0, 24.70119522]</td>\n",
              "    </tr>\n",
              "    <tr>\n",
              "      <th>1</th>\n",
              "      <td>[{'icon_id': '2', 'icon_type': 'traffic-source...</td>\n",
              "      <td>[240.0, 26.25]</td>\n",
              "    </tr>\n",
              "    <tr>\n",
              "      <th>2</th>\n",
              "      <td>[{'icon_id': '2', 'icon_type': 'traffic-source...</td>\n",
              "      <td>[228.0, 25.87719298]</td>\n",
              "    </tr>\n",
              "    <tr>\n",
              "      <th>3</th>\n",
              "      <td>[{'icon_id': '2', 'icon_type': 'traffic-source...</td>\n",
              "      <td>[227.0, 28.1938326]</td>\n",
              "    </tr>\n",
              "    <tr>\n",
              "      <th>4</th>\n",
              "      <td>[{'icon_id': '2', 'icon_type': 'traffic-source...</td>\n",
              "      <td>[225.0, 24.88888889]</td>\n",
              "    </tr>\n",
              "    <tr>\n",
              "      <th>5</th>\n",
              "      <td>[{'icon_id': '2', 'icon_type': 'traffic-source...</td>\n",
              "      <td>[225.0, 25.77777778]</td>\n",
              "    </tr>\n",
              "    <tr>\n",
              "      <th>6</th>\n",
              "      <td>[{'icon_id': '2', 'icon_type': 'traffic-source...</td>\n",
              "      <td>[209.0, 26.31578947]</td>\n",
              "    </tr>\n",
              "    <tr>\n",
              "      <th>7</th>\n",
              "      <td>[{'icon_id': '2', 'icon_type': 'traffic-source...</td>\n",
              "      <td>[186.0, 19.35483871]</td>\n",
              "    </tr>\n",
              "    <tr>\n",
              "      <th>8</th>\n",
              "      <td>[{'icon_id': '2', 'icon_type': 'traffic-source...</td>\n",
              "      <td>[166.0, 17.46987952]</td>\n",
              "    </tr>\n",
              "    <tr>\n",
              "      <th>9</th>\n",
              "      <td>[{'icon_id': '2', 'icon_type': 'traffic-source...</td>\n",
              "      <td>[161.0, 23.60248447]</td>\n",
              "    </tr>\n",
              "  </tbody>\n",
              "</table>\n",
              "</div>"
            ],
            "text/plain": [
              "                                          dimensions               metrics\n",
              "0  [{'icon_id': '2', 'icon_type': 'traffic-source...  [251.0, 24.70119522]\n",
              "1  [{'icon_id': '2', 'icon_type': 'traffic-source...        [240.0, 26.25]\n",
              "2  [{'icon_id': '2', 'icon_type': 'traffic-source...  [228.0, 25.87719298]\n",
              "3  [{'icon_id': '2', 'icon_type': 'traffic-source...   [227.0, 28.1938326]\n",
              "4  [{'icon_id': '2', 'icon_type': 'traffic-source...  [225.0, 24.88888889]\n",
              "5  [{'icon_id': '2', 'icon_type': 'traffic-source...  [225.0, 25.77777778]\n",
              "6  [{'icon_id': '2', 'icon_type': 'traffic-source...  [209.0, 26.31578947]\n",
              "7  [{'icon_id': '2', 'icon_type': 'traffic-source...  [186.0, 19.35483871]\n",
              "8  [{'icon_id': '2', 'icon_type': 'traffic-source...  [166.0, 17.46987952]\n",
              "9  [{'icon_id': '2', 'icon_type': 'traffic-source...  [161.0, 23.60248447]"
            ]
          },
          "metadata": {}
        }
      ]
    },
    {
      "cell_type": "markdown",
      "metadata": {
        "id": "y5tg0GWMVFt-"
      },
      "source": [
        "\n",
        "Избавляемся от вложенных словарей, преобразуем данные в плоский вид"
      ]
    },
    {
      "cell_type": "code",
      "metadata": {
        "id": "5pUV-w1XVFt-"
      },
      "source": [
        "def bots_metrics(bots_data):\n",
        "    list_of_dicts = []\n",
        "    dimensions_list = bots_data['query']['dimensions']\n",
        "    metrics_list = bots_data['query']['metrics']\n",
        "    for data_item in bots_data['data']:\n",
        "        d = {}\n",
        "        for i,dimension in enumerate(data_item['dimensions']):\n",
        "            d[dimensions_list[i]] = dimension['name']\n",
        "        for i,metric in enumerate(data_item['metrics']):\n",
        "            d[metrics_list[i]] = metric\n",
        "        list_of_dicts.append(d)\n",
        "    return list_of_dicts"
      ],
      "execution_count": null,
      "outputs": []
    },
    {
      "cell_type": "markdown",
      "metadata": {
        "id": "5pRzLtZeVFuA"
      },
      "source": [
        "Преобразуем данные с помощью функции bots_metrics и записываем в переменную bots_list_of_dicts, которая представляет собой обычный список словарей без вложенных объектов:"
      ]
    },
    {
      "cell_type": "code",
      "metadata": {
        "colab": {
          "base_uri": "https://localhost:8080/"
        },
        "id": "dqeSJhJ2VFuB",
        "outputId": "92f7faaa-e2a5-4dcc-efaf-7022ddf57aad"
      },
      "source": [
        "bots_list_of_dicts = bots_metrics(bots_data)\n",
        "pprint(bots_list_of_dicts[0:5])"
      ],
      "execution_count": null,
      "outputs": [
        {
          "output_type": "stream",
          "name": "stdout",
          "text": [
            "[{'ym:s:hour': '16:00',\n",
            "  'ym:s:lastsignTrafficSource': 'Search engine traffic',\n",
            "  'ym:s:robotPercentage': 24.70119522,\n",
            "  'ym:s:visits': 251.0},\n",
            " {'ym:s:hour': '15:00',\n",
            "  'ym:s:lastsignTrafficSource': 'Search engine traffic',\n",
            "  'ym:s:robotPercentage': 26.25,\n",
            "  'ym:s:visits': 240.0},\n",
            " {'ym:s:hour': '11:00',\n",
            "  'ym:s:lastsignTrafficSource': 'Search engine traffic',\n",
            "  'ym:s:robotPercentage': 25.87719298,\n",
            "  'ym:s:visits': 228.0},\n",
            " {'ym:s:hour': '13:00',\n",
            "  'ym:s:lastsignTrafficSource': 'Search engine traffic',\n",
            "  'ym:s:robotPercentage': 28.1938326,\n",
            "  'ym:s:visits': 227.0},\n",
            " {'ym:s:hour': '12:00',\n",
            "  'ym:s:lastsignTrafficSource': 'Search engine traffic',\n",
            "  'ym:s:robotPercentage': 24.88888889,\n",
            "  'ym:s:visits': 225.0}]\n"
          ]
        }
      ]
    },
    {
      "cell_type": "markdown",
      "metadata": {
        "id": "F_L-dyysVFuD"
      },
      "source": [
        "Создаем датафрейм bots_df"
      ]
    },
    {
      "cell_type": "code",
      "metadata": {
        "colab": {
          "base_uri": "https://localhost:8080/",
          "height": 359
        },
        "id": "IEE4fv0EVFuD",
        "outputId": "2993b27e-79af-4dce-c148-1986d0a47d2f"
      },
      "source": [
        "bots_df = pd.DataFrame(bots_list_of_dicts)\n",
        "display(bots_df.head(10))"
      ],
      "execution_count": null,
      "outputs": [
        {
          "output_type": "display_data",
          "data": {
            "text/html": [
              "<div>\n",
              "<style scoped>\n",
              "    .dataframe tbody tr th:only-of-type {\n",
              "        vertical-align: middle;\n",
              "    }\n",
              "\n",
              "    .dataframe tbody tr th {\n",
              "        vertical-align: top;\n",
              "    }\n",
              "\n",
              "    .dataframe thead th {\n",
              "        text-align: right;\n",
              "    }\n",
              "</style>\n",
              "<table border=\"1\" class=\"dataframe\">\n",
              "  <thead>\n",
              "    <tr style=\"text-align: right;\">\n",
              "      <th></th>\n",
              "      <th>ym:s:lastsignTrafficSource</th>\n",
              "      <th>ym:s:hour</th>\n",
              "      <th>ym:s:visits</th>\n",
              "      <th>ym:s:robotPercentage</th>\n",
              "    </tr>\n",
              "  </thead>\n",
              "  <tbody>\n",
              "    <tr>\n",
              "      <th>0</th>\n",
              "      <td>Search engine traffic</td>\n",
              "      <td>16:00</td>\n",
              "      <td>251.0</td>\n",
              "      <td>24.701195</td>\n",
              "    </tr>\n",
              "    <tr>\n",
              "      <th>1</th>\n",
              "      <td>Search engine traffic</td>\n",
              "      <td>15:00</td>\n",
              "      <td>240.0</td>\n",
              "      <td>26.250000</td>\n",
              "    </tr>\n",
              "    <tr>\n",
              "      <th>2</th>\n",
              "      <td>Search engine traffic</td>\n",
              "      <td>11:00</td>\n",
              "      <td>228.0</td>\n",
              "      <td>25.877193</td>\n",
              "    </tr>\n",
              "    <tr>\n",
              "      <th>3</th>\n",
              "      <td>Search engine traffic</td>\n",
              "      <td>13:00</td>\n",
              "      <td>227.0</td>\n",
              "      <td>28.193833</td>\n",
              "    </tr>\n",
              "    <tr>\n",
              "      <th>4</th>\n",
              "      <td>Search engine traffic</td>\n",
              "      <td>12:00</td>\n",
              "      <td>225.0</td>\n",
              "      <td>24.888889</td>\n",
              "    </tr>\n",
              "    <tr>\n",
              "      <th>5</th>\n",
              "      <td>Search engine traffic</td>\n",
              "      <td>14:00</td>\n",
              "      <td>225.0</td>\n",
              "      <td>25.777778</td>\n",
              "    </tr>\n",
              "    <tr>\n",
              "      <th>6</th>\n",
              "      <td>Search engine traffic</td>\n",
              "      <td>17:00</td>\n",
              "      <td>209.0</td>\n",
              "      <td>26.315789</td>\n",
              "    </tr>\n",
              "    <tr>\n",
              "      <th>7</th>\n",
              "      <td>Search engine traffic</td>\n",
              "      <td>10:00</td>\n",
              "      <td>186.0</td>\n",
              "      <td>19.354839</td>\n",
              "    </tr>\n",
              "    <tr>\n",
              "      <th>8</th>\n",
              "      <td>Search engine traffic</td>\n",
              "      <td>21:00</td>\n",
              "      <td>166.0</td>\n",
              "      <td>17.469880</td>\n",
              "    </tr>\n",
              "    <tr>\n",
              "      <th>9</th>\n",
              "      <td>Search engine traffic</td>\n",
              "      <td>19:00</td>\n",
              "      <td>161.0</td>\n",
              "      <td>23.602484</td>\n",
              "    </tr>\n",
              "  </tbody>\n",
              "</table>\n",
              "</div>"
            ],
            "text/plain": [
              "  ym:s:lastsignTrafficSource ym:s:hour  ym:s:visits  ym:s:robotPercentage\n",
              "0      Search engine traffic     16:00        251.0             24.701195\n",
              "1      Search engine traffic     15:00        240.0             26.250000\n",
              "2      Search engine traffic     11:00        228.0             25.877193\n",
              "3      Search engine traffic     13:00        227.0             28.193833\n",
              "4      Search engine traffic     12:00        225.0             24.888889\n",
              "5      Search engine traffic     14:00        225.0             25.777778\n",
              "6      Search engine traffic     17:00        209.0             26.315789\n",
              "7      Search engine traffic     10:00        186.0             19.354839\n",
              "8      Search engine traffic     21:00        166.0             17.469880\n",
              "9      Search engine traffic     19:00        161.0             23.602484"
            ]
          },
          "metadata": {}
        }
      ]
    },
    {
      "cell_type": "markdown",
      "metadata": {
        "id": "w2QXivh0VFuE"
      },
      "source": [
        "Для удобства переименуем столбцы и добавим новый столбец, в котором расчитаем количество посещений ботов:"
      ]
    },
    {
      "cell_type": "code",
      "metadata": {
        "colab": {
          "base_uri": "https://localhost:8080/",
          "height": 359
        },
        "id": "FmuyGGXuVFuG",
        "outputId": "2e8f0aeb-502d-4f03-e0fb-3bf18661209e"
      },
      "source": [
        "bots_df.columns=['Source', 'Time','Total_visits','Bots_share']\n",
        "bots_df['Bots_visits'] = bots_df['Total_visits']*bots_df['Bots_share']/100\n",
        "display(bots_df.head(10))"
      ],
      "execution_count": null,
      "outputs": [
        {
          "output_type": "display_data",
          "data": {
            "text/html": [
              "<div>\n",
              "<style scoped>\n",
              "    .dataframe tbody tr th:only-of-type {\n",
              "        vertical-align: middle;\n",
              "    }\n",
              "\n",
              "    .dataframe tbody tr th {\n",
              "        vertical-align: top;\n",
              "    }\n",
              "\n",
              "    .dataframe thead th {\n",
              "        text-align: right;\n",
              "    }\n",
              "</style>\n",
              "<table border=\"1\" class=\"dataframe\">\n",
              "  <thead>\n",
              "    <tr style=\"text-align: right;\">\n",
              "      <th></th>\n",
              "      <th>Source</th>\n",
              "      <th>Time</th>\n",
              "      <th>Total_visits</th>\n",
              "      <th>Bots_share</th>\n",
              "      <th>Bots_visits</th>\n",
              "    </tr>\n",
              "  </thead>\n",
              "  <tbody>\n",
              "    <tr>\n",
              "      <th>0</th>\n",
              "      <td>Search engine traffic</td>\n",
              "      <td>16:00</td>\n",
              "      <td>251.0</td>\n",
              "      <td>24.701195</td>\n",
              "      <td>62.0</td>\n",
              "    </tr>\n",
              "    <tr>\n",
              "      <th>1</th>\n",
              "      <td>Search engine traffic</td>\n",
              "      <td>15:00</td>\n",
              "      <td>240.0</td>\n",
              "      <td>26.250000</td>\n",
              "      <td>63.0</td>\n",
              "    </tr>\n",
              "    <tr>\n",
              "      <th>2</th>\n",
              "      <td>Search engine traffic</td>\n",
              "      <td>11:00</td>\n",
              "      <td>228.0</td>\n",
              "      <td>25.877193</td>\n",
              "      <td>59.0</td>\n",
              "    </tr>\n",
              "    <tr>\n",
              "      <th>3</th>\n",
              "      <td>Search engine traffic</td>\n",
              "      <td>13:00</td>\n",
              "      <td>227.0</td>\n",
              "      <td>28.193833</td>\n",
              "      <td>64.0</td>\n",
              "    </tr>\n",
              "    <tr>\n",
              "      <th>4</th>\n",
              "      <td>Search engine traffic</td>\n",
              "      <td>12:00</td>\n",
              "      <td>225.0</td>\n",
              "      <td>24.888889</td>\n",
              "      <td>56.0</td>\n",
              "    </tr>\n",
              "    <tr>\n",
              "      <th>5</th>\n",
              "      <td>Search engine traffic</td>\n",
              "      <td>14:00</td>\n",
              "      <td>225.0</td>\n",
              "      <td>25.777778</td>\n",
              "      <td>58.0</td>\n",
              "    </tr>\n",
              "    <tr>\n",
              "      <th>6</th>\n",
              "      <td>Search engine traffic</td>\n",
              "      <td>17:00</td>\n",
              "      <td>209.0</td>\n",
              "      <td>26.315789</td>\n",
              "      <td>55.0</td>\n",
              "    </tr>\n",
              "    <tr>\n",
              "      <th>7</th>\n",
              "      <td>Search engine traffic</td>\n",
              "      <td>10:00</td>\n",
              "      <td>186.0</td>\n",
              "      <td>19.354839</td>\n",
              "      <td>36.0</td>\n",
              "    </tr>\n",
              "    <tr>\n",
              "      <th>8</th>\n",
              "      <td>Search engine traffic</td>\n",
              "      <td>21:00</td>\n",
              "      <td>166.0</td>\n",
              "      <td>17.469880</td>\n",
              "      <td>29.0</td>\n",
              "    </tr>\n",
              "    <tr>\n",
              "      <th>9</th>\n",
              "      <td>Search engine traffic</td>\n",
              "      <td>19:00</td>\n",
              "      <td>161.0</td>\n",
              "      <td>23.602484</td>\n",
              "      <td>38.0</td>\n",
              "    </tr>\n",
              "  </tbody>\n",
              "</table>\n",
              "</div>"
            ],
            "text/plain": [
              "                  Source   Time  Total_visits  Bots_share  Bots_visits\n",
              "0  Search engine traffic  16:00         251.0   24.701195         62.0\n",
              "1  Search engine traffic  15:00         240.0   26.250000         63.0\n",
              "2  Search engine traffic  11:00         228.0   25.877193         59.0\n",
              "3  Search engine traffic  13:00         227.0   28.193833         64.0\n",
              "4  Search engine traffic  12:00         225.0   24.888889         56.0\n",
              "5  Search engine traffic  14:00         225.0   25.777778         58.0\n",
              "6  Search engine traffic  17:00         209.0   26.315789         55.0\n",
              "7  Search engine traffic  10:00         186.0   19.354839         36.0\n",
              "8  Search engine traffic  21:00         166.0   17.469880         29.0\n",
              "9  Search engine traffic  19:00         161.0   23.602484         38.0"
            ]
          },
          "metadata": {}
        }
      ]
    },
    {
      "cell_type": "markdown",
      "metadata": {
        "id": "6MK6Jb2gVFuH"
      },
      "source": [
        "Группируем данные общих посещений и посещений ботов на основе источника привлечения:"
      ]
    },
    {
      "cell_type": "code",
      "metadata": {
        "colab": {
          "base_uri": "https://localhost:8080/",
          "height": 297
        },
        "id": "PPhUDHeUVFuI",
        "outputId": "253fe3ac-4103-4784-cb6f-4ca64fa7150c"
      },
      "source": [
        "visit_pivot = bots_df.groupby(['Source'])[['Total_visits','Bots_visits']].sum().sort_values(['Total_visits'],ascending=False)\n",
        "display(visit_pivot)"
      ],
      "execution_count": null,
      "outputs": [
        {
          "output_type": "display_data",
          "data": {
            "text/html": [
              "<div>\n",
              "<style scoped>\n",
              "    .dataframe tbody tr th:only-of-type {\n",
              "        vertical-align: middle;\n",
              "    }\n",
              "\n",
              "    .dataframe tbody tr th {\n",
              "        vertical-align: top;\n",
              "    }\n",
              "\n",
              "    .dataframe thead th {\n",
              "        text-align: right;\n",
              "    }\n",
              "</style>\n",
              "<table border=\"1\" class=\"dataframe\">\n",
              "  <thead>\n",
              "    <tr style=\"text-align: right;\">\n",
              "      <th></th>\n",
              "      <th>Total_visits</th>\n",
              "      <th>Bots_visits</th>\n",
              "    </tr>\n",
              "    <tr>\n",
              "      <th>Source</th>\n",
              "      <th></th>\n",
              "      <th></th>\n",
              "    </tr>\n",
              "  </thead>\n",
              "  <tbody>\n",
              "    <tr>\n",
              "      <th>Search engine traffic</th>\n",
              "      <td>3334.0</td>\n",
              "      <td>739.0</td>\n",
              "    </tr>\n",
              "    <tr>\n",
              "      <th>Direct traffic</th>\n",
              "      <td>757.0</td>\n",
              "      <td>177.0</td>\n",
              "    </tr>\n",
              "    <tr>\n",
              "      <th>Link traffic</th>\n",
              "      <td>126.0</td>\n",
              "      <td>31.0</td>\n",
              "    </tr>\n",
              "    <tr>\n",
              "      <th>Social network traffic</th>\n",
              "      <td>80.0</td>\n",
              "      <td>11.0</td>\n",
              "    </tr>\n",
              "    <tr>\n",
              "      <th>Internal traffic</th>\n",
              "      <td>10.0</td>\n",
              "      <td>3.0</td>\n",
              "    </tr>\n",
              "    <tr>\n",
              "      <th>Cached page traffic</th>\n",
              "      <td>6.0</td>\n",
              "      <td>1.0</td>\n",
              "    </tr>\n",
              "    <tr>\n",
              "      <th>Recommendation system traffic</th>\n",
              "      <td>2.0</td>\n",
              "      <td>0.0</td>\n",
              "    </tr>\n",
              "  </tbody>\n",
              "</table>\n",
              "</div>"
            ],
            "text/plain": [
              "                               Total_visits  Bots_visits\n",
              "Source                                                  \n",
              "Search engine traffic                3334.0        739.0\n",
              "Direct traffic                        757.0        177.0\n",
              "Link traffic                          126.0         31.0\n",
              "Social network traffic                 80.0         11.0\n",
              "Internal traffic                       10.0          3.0\n",
              "Cached page traffic                     6.0          1.0\n",
              "Recommendation system traffic           2.0          0.0"
            ]
          },
          "metadata": {}
        }
      ]
    },
    {
      "cell_type": "markdown",
      "metadata": {
        "id": "th9vhStpVFuJ"
      },
      "source": [
        "Добавляем столбец с расчетом доли посещений ботов от общего количества посещений"
      ]
    },
    {
      "cell_type": "code",
      "metadata": {
        "colab": {
          "base_uri": "https://localhost:8080/",
          "height": 297
        },
        "id": "9MNNhy5GVFuK",
        "outputId": "a94b996f-a3ec-43cc-f391-17dc2d988356"
      },
      "source": [
        "visit_pivot.columns=['Total_visits','Bots_visits']\n",
        "visit_pivot['Bots_share'] = visit_pivot['Bots_visits']/visit_pivot['Total_visits']*100\n",
        "display(visit_pivot)"
      ],
      "execution_count": null,
      "outputs": [
        {
          "output_type": "display_data",
          "data": {
            "text/html": [
              "<div>\n",
              "<style scoped>\n",
              "    .dataframe tbody tr th:only-of-type {\n",
              "        vertical-align: middle;\n",
              "    }\n",
              "\n",
              "    .dataframe tbody tr th {\n",
              "        vertical-align: top;\n",
              "    }\n",
              "\n",
              "    .dataframe thead th {\n",
              "        text-align: right;\n",
              "    }\n",
              "</style>\n",
              "<table border=\"1\" class=\"dataframe\">\n",
              "  <thead>\n",
              "    <tr style=\"text-align: right;\">\n",
              "      <th></th>\n",
              "      <th>Total_visits</th>\n",
              "      <th>Bots_visits</th>\n",
              "      <th>Bots_share</th>\n",
              "    </tr>\n",
              "    <tr>\n",
              "      <th>Source</th>\n",
              "      <th></th>\n",
              "      <th></th>\n",
              "      <th></th>\n",
              "    </tr>\n",
              "  </thead>\n",
              "  <tbody>\n",
              "    <tr>\n",
              "      <th>Search engine traffic</th>\n",
              "      <td>3334.0</td>\n",
              "      <td>739.0</td>\n",
              "      <td>22.165567</td>\n",
              "    </tr>\n",
              "    <tr>\n",
              "      <th>Direct traffic</th>\n",
              "      <td>757.0</td>\n",
              "      <td>177.0</td>\n",
              "      <td>23.381770</td>\n",
              "    </tr>\n",
              "    <tr>\n",
              "      <th>Link traffic</th>\n",
              "      <td>126.0</td>\n",
              "      <td>31.0</td>\n",
              "      <td>24.603175</td>\n",
              "    </tr>\n",
              "    <tr>\n",
              "      <th>Social network traffic</th>\n",
              "      <td>80.0</td>\n",
              "      <td>11.0</td>\n",
              "      <td>13.750000</td>\n",
              "    </tr>\n",
              "    <tr>\n",
              "      <th>Internal traffic</th>\n",
              "      <td>10.0</td>\n",
              "      <td>3.0</td>\n",
              "      <td>30.000000</td>\n",
              "    </tr>\n",
              "    <tr>\n",
              "      <th>Cached page traffic</th>\n",
              "      <td>6.0</td>\n",
              "      <td>1.0</td>\n",
              "      <td>16.666667</td>\n",
              "    </tr>\n",
              "    <tr>\n",
              "      <th>Recommendation system traffic</th>\n",
              "      <td>2.0</td>\n",
              "      <td>0.0</td>\n",
              "      <td>0.000000</td>\n",
              "    </tr>\n",
              "  </tbody>\n",
              "</table>\n",
              "</div>"
            ],
            "text/plain": [
              "                               Total_visits  Bots_visits  Bots_share\n",
              "Source                                                              \n",
              "Search engine traffic                3334.0        739.0   22.165567\n",
              "Direct traffic                        757.0        177.0   23.381770\n",
              "Link traffic                          126.0         31.0   24.603175\n",
              "Social network traffic                 80.0         11.0   13.750000\n",
              "Internal traffic                       10.0          3.0   30.000000\n",
              "Cached page traffic                     6.0          1.0   16.666667\n",
              "Recommendation system traffic           2.0          0.0    0.000000"
            ]
          },
          "metadata": {}
        }
      ]
    },
    {
      "cell_type": "code",
      "metadata": {
        "colab": {
          "base_uri": "https://localhost:8080/"
        },
        "id": "3pi9RkjJVFuL",
        "outputId": "1cf738f8-bb20-4462-d3a8-bccd74e230e9"
      },
      "source": [
        "share_of_bots = visit_pivot.Bots_visits.sum()/visit_pivot.Total_visits.sum()\n",
        "print ('Доля ботов от всего трафика: {:.2%}'.format(share_of_bots))"
      ],
      "execution_count": null,
      "outputs": [
        {
          "output_type": "stream",
          "name": "stdout",
          "text": [
            "Доля ботов от всего трафика: 22.29%\n"
          ]
        }
      ]
    },
    {
      "cell_type": "markdown",
      "metadata": {
        "id": "hVGFy5FyVFuM"
      },
      "source": [
        "Создаем сводную таблица для выявления времени суток, в которое чаще всего заходят боты:"
      ]
    },
    {
      "cell_type": "code",
      "metadata": {
        "scrolled": true,
        "colab": {
          "base_uri": "https://localhost:8080/",
          "height": 855
        },
        "id": "ZFC5ygivVFuN",
        "outputId": "cb0cc0e8-d486-4be6-f5ef-ae1e5b160043"
      },
      "source": [
        "bots_pivot = bots_df.loc[bots_df['Source'].isin(['Search engine traffic','Direct traffic','Link traffic', 'Social network traffic','Internal traffic','Cached page traffic', 'Recommendation system traffic' ])].pivot_table(values=['Bots_visits'],\n",
        "    index=['Time'],\n",
        "    columns=['Source'],\n",
        "    aggfunc='sum',\n",
        "    fill_value = 0)\n",
        "    #margins=True,\n",
        "    #margins_name='Total')\n",
        "display(bots_pivot)"
      ],
      "execution_count": null,
      "outputs": [
        {
          "output_type": "display_data",
          "data": {
            "text/html": [
              "<div>\n",
              "<style scoped>\n",
              "    .dataframe tbody tr th:only-of-type {\n",
              "        vertical-align: middle;\n",
              "    }\n",
              "\n",
              "    .dataframe tbody tr th {\n",
              "        vertical-align: top;\n",
              "    }\n",
              "\n",
              "    .dataframe thead tr th {\n",
              "        text-align: left;\n",
              "    }\n",
              "\n",
              "    .dataframe thead tr:last-of-type th {\n",
              "        text-align: right;\n",
              "    }\n",
              "</style>\n",
              "<table border=\"1\" class=\"dataframe\">\n",
              "  <thead>\n",
              "    <tr>\n",
              "      <th></th>\n",
              "      <th colspan=\"7\" halign=\"left\">Bots_visits</th>\n",
              "    </tr>\n",
              "    <tr>\n",
              "      <th>Source</th>\n",
              "      <th>Cached page traffic</th>\n",
              "      <th>Direct traffic</th>\n",
              "      <th>Internal traffic</th>\n",
              "      <th>Link traffic</th>\n",
              "      <th>Recommendation system traffic</th>\n",
              "      <th>Search engine traffic</th>\n",
              "      <th>Social network traffic</th>\n",
              "    </tr>\n",
              "    <tr>\n",
              "      <th>Time</th>\n",
              "      <th></th>\n",
              "      <th></th>\n",
              "      <th></th>\n",
              "      <th></th>\n",
              "      <th></th>\n",
              "      <th></th>\n",
              "      <th></th>\n",
              "    </tr>\n",
              "  </thead>\n",
              "  <tbody>\n",
              "    <tr>\n",
              "      <th>00:00</th>\n",
              "      <td>0</td>\n",
              "      <td>2</td>\n",
              "      <td>0</td>\n",
              "      <td>0</td>\n",
              "      <td>0</td>\n",
              "      <td>17</td>\n",
              "      <td>0</td>\n",
              "    </tr>\n",
              "    <tr>\n",
              "      <th>01:00</th>\n",
              "      <td>1</td>\n",
              "      <td>4</td>\n",
              "      <td>0</td>\n",
              "      <td>0</td>\n",
              "      <td>0</td>\n",
              "      <td>8</td>\n",
              "      <td>0</td>\n",
              "    </tr>\n",
              "    <tr>\n",
              "      <th>02:00</th>\n",
              "      <td>0</td>\n",
              "      <td>2</td>\n",
              "      <td>0</td>\n",
              "      <td>0</td>\n",
              "      <td>0</td>\n",
              "      <td>5</td>\n",
              "      <td>0</td>\n",
              "    </tr>\n",
              "    <tr>\n",
              "      <th>03:00</th>\n",
              "      <td>0</td>\n",
              "      <td>2</td>\n",
              "      <td>0</td>\n",
              "      <td>1</td>\n",
              "      <td>0</td>\n",
              "      <td>3</td>\n",
              "      <td>0</td>\n",
              "    </tr>\n",
              "    <tr>\n",
              "      <th>04:00</th>\n",
              "      <td>0</td>\n",
              "      <td>3</td>\n",
              "      <td>0</td>\n",
              "      <td>0</td>\n",
              "      <td>0</td>\n",
              "      <td>3</td>\n",
              "      <td>0</td>\n",
              "    </tr>\n",
              "    <tr>\n",
              "      <th>05:00</th>\n",
              "      <td>0</td>\n",
              "      <td>3</td>\n",
              "      <td>0</td>\n",
              "      <td>0</td>\n",
              "      <td>0</td>\n",
              "      <td>1</td>\n",
              "      <td>0</td>\n",
              "    </tr>\n",
              "    <tr>\n",
              "      <th>06:00</th>\n",
              "      <td>0</td>\n",
              "      <td>3</td>\n",
              "      <td>0</td>\n",
              "      <td>2</td>\n",
              "      <td>0</td>\n",
              "      <td>3</td>\n",
              "      <td>0</td>\n",
              "    </tr>\n",
              "    <tr>\n",
              "      <th>07:00</th>\n",
              "      <td>0</td>\n",
              "      <td>5</td>\n",
              "      <td>0</td>\n",
              "      <td>1</td>\n",
              "      <td>0</td>\n",
              "      <td>6</td>\n",
              "      <td>0</td>\n",
              "    </tr>\n",
              "    <tr>\n",
              "      <th>08:00</th>\n",
              "      <td>0</td>\n",
              "      <td>5</td>\n",
              "      <td>0</td>\n",
              "      <td>1</td>\n",
              "      <td>0</td>\n",
              "      <td>29</td>\n",
              "      <td>1</td>\n",
              "    </tr>\n",
              "    <tr>\n",
              "      <th>09:00</th>\n",
              "      <td>0</td>\n",
              "      <td>12</td>\n",
              "      <td>1</td>\n",
              "      <td>1</td>\n",
              "      <td>0</td>\n",
              "      <td>36</td>\n",
              "      <td>1</td>\n",
              "    </tr>\n",
              "    <tr>\n",
              "      <th>10:00</th>\n",
              "      <td>0</td>\n",
              "      <td>9</td>\n",
              "      <td>0</td>\n",
              "      <td>6</td>\n",
              "      <td>0</td>\n",
              "      <td>36</td>\n",
              "      <td>0</td>\n",
              "    </tr>\n",
              "    <tr>\n",
              "      <th>11:00</th>\n",
              "      <td>0</td>\n",
              "      <td>8</td>\n",
              "      <td>0</td>\n",
              "      <td>3</td>\n",
              "      <td>0</td>\n",
              "      <td>59</td>\n",
              "      <td>0</td>\n",
              "    </tr>\n",
              "    <tr>\n",
              "      <th>12:00</th>\n",
              "      <td>0</td>\n",
              "      <td>15</td>\n",
              "      <td>1</td>\n",
              "      <td>2</td>\n",
              "      <td>0</td>\n",
              "      <td>56</td>\n",
              "      <td>1</td>\n",
              "    </tr>\n",
              "    <tr>\n",
              "      <th>13:00</th>\n",
              "      <td>0</td>\n",
              "      <td>13</td>\n",
              "      <td>0</td>\n",
              "      <td>1</td>\n",
              "      <td>0</td>\n",
              "      <td>64</td>\n",
              "      <td>2</td>\n",
              "    </tr>\n",
              "    <tr>\n",
              "      <th>14:00</th>\n",
              "      <td>0</td>\n",
              "      <td>14</td>\n",
              "      <td>0</td>\n",
              "      <td>2</td>\n",
              "      <td>0</td>\n",
              "      <td>58</td>\n",
              "      <td>0</td>\n",
              "    </tr>\n",
              "    <tr>\n",
              "      <th>15:00</th>\n",
              "      <td>0</td>\n",
              "      <td>6</td>\n",
              "      <td>0</td>\n",
              "      <td>1</td>\n",
              "      <td>0</td>\n",
              "      <td>63</td>\n",
              "      <td>1</td>\n",
              "    </tr>\n",
              "    <tr>\n",
              "      <th>16:00</th>\n",
              "      <td>0</td>\n",
              "      <td>8</td>\n",
              "      <td>1</td>\n",
              "      <td>3</td>\n",
              "      <td>0</td>\n",
              "      <td>62</td>\n",
              "      <td>1</td>\n",
              "    </tr>\n",
              "    <tr>\n",
              "      <th>17:00</th>\n",
              "      <td>0</td>\n",
              "      <td>9</td>\n",
              "      <td>0</td>\n",
              "      <td>2</td>\n",
              "      <td>0</td>\n",
              "      <td>55</td>\n",
              "      <td>0</td>\n",
              "    </tr>\n",
              "    <tr>\n",
              "      <th>18:00</th>\n",
              "      <td>0</td>\n",
              "      <td>9</td>\n",
              "      <td>0</td>\n",
              "      <td>1</td>\n",
              "      <td>0</td>\n",
              "      <td>31</td>\n",
              "      <td>0</td>\n",
              "    </tr>\n",
              "    <tr>\n",
              "      <th>19:00</th>\n",
              "      <td>0</td>\n",
              "      <td>10</td>\n",
              "      <td>0</td>\n",
              "      <td>0</td>\n",
              "      <td>0</td>\n",
              "      <td>38</td>\n",
              "      <td>0</td>\n",
              "    </tr>\n",
              "    <tr>\n",
              "      <th>20:00</th>\n",
              "      <td>0</td>\n",
              "      <td>8</td>\n",
              "      <td>0</td>\n",
              "      <td>2</td>\n",
              "      <td>0</td>\n",
              "      <td>26</td>\n",
              "      <td>0</td>\n",
              "    </tr>\n",
              "    <tr>\n",
              "      <th>21:00</th>\n",
              "      <td>0</td>\n",
              "      <td>13</td>\n",
              "      <td>0</td>\n",
              "      <td>0</td>\n",
              "      <td>0</td>\n",
              "      <td>29</td>\n",
              "      <td>1</td>\n",
              "    </tr>\n",
              "    <tr>\n",
              "      <th>22:00</th>\n",
              "      <td>0</td>\n",
              "      <td>6</td>\n",
              "      <td>0</td>\n",
              "      <td>1</td>\n",
              "      <td>0</td>\n",
              "      <td>30</td>\n",
              "      <td>3</td>\n",
              "    </tr>\n",
              "    <tr>\n",
              "      <th>23:00</th>\n",
              "      <td>0</td>\n",
              "      <td>8</td>\n",
              "      <td>0</td>\n",
              "      <td>1</td>\n",
              "      <td>0</td>\n",
              "      <td>21</td>\n",
              "      <td>0</td>\n",
              "    </tr>\n",
              "  </tbody>\n",
              "</table>\n",
              "</div>"
            ],
            "text/plain": [
              "               Bots_visits  ...                       \n",
              "Source Cached page traffic  ... Social network traffic\n",
              "Time                        ...                       \n",
              "00:00                    0  ...                      0\n",
              "01:00                    1  ...                      0\n",
              "02:00                    0  ...                      0\n",
              "03:00                    0  ...                      0\n",
              "04:00                    0  ...                      0\n",
              "05:00                    0  ...                      0\n",
              "06:00                    0  ...                      0\n",
              "07:00                    0  ...                      0\n",
              "08:00                    0  ...                      1\n",
              "09:00                    0  ...                      1\n",
              "10:00                    0  ...                      0\n",
              "11:00                    0  ...                      0\n",
              "12:00                    0  ...                      1\n",
              "13:00                    0  ...                      2\n",
              "14:00                    0  ...                      0\n",
              "15:00                    0  ...                      1\n",
              "16:00                    0  ...                      1\n",
              "17:00                    0  ...                      0\n",
              "18:00                    0  ...                      0\n",
              "19:00                    0  ...                      0\n",
              "20:00                    0  ...                      0\n",
              "21:00                    0  ...                      1\n",
              "22:00                    0  ...                      3\n",
              "23:00                    0  ...                      0\n",
              "\n",
              "[24 rows x 7 columns]"
            ]
          },
          "metadata": {}
        }
      ]
    },
    {
      "cell_type": "code",
      "metadata": {
        "colab": {
          "base_uri": "https://localhost:8080/",
          "height": 350
        },
        "id": "SL6nzd57VFuO",
        "outputId": "624d9ee9-f5e4-470c-c4d4-431b199bf721"
      },
      "source": [
        "\n",
        "bots_pivot.plot(title='Динамика динамика посещений ботов по времени',\n",
        "\n",
        "                             xlabel='Время посещений',\n",
        "                             ylabel='Количество посещений',\n",
        "                             figsize=(15, 5));\n",
        "plt.legend(loc='upper left');\n"
      ],
      "execution_count": null,
      "outputs": [
        {
          "output_type": "display_data",
          "data": {
            "image/png": "[encoded data removed]",
            "text/plain": [
              "<Figure size 1080x360 with 1 Axes>"
            ]
          },
          "metadata": {
            "needs_background": "light"
          }
        }
      ]
    },
    {
      "cell_type": "markdown",
      "metadata": {
        "id": "gSV5M4knVFuP"
      },
      "source": [
        "# Вывод:\n",
        "    \n",
        "1. Всего за исследуемый период на сайт зашло **962 бота**, что составляет **22,29%** от общего трафика.\n",
        "\n",
        "\n",
        "2. Больше всего ботов заходиа с **Search engine traffic** (739 заходов), **Direct traffic**(177 заходов) и **Link traffic** (31 заход).\n",
        "   По времени посещений - больше всего заходов в рабочее время *с 9.00 до 17.00* (более 50 заходов за час)"
      ]
    },
    {
      "cell_type": "code",
      "metadata": {
        "id": "WRdDLNgYVFuQ"
      },
      "source": [],
      "execution_count": null,
      "outputs": []
    },
    {
      "cell_type": "code",
      "metadata": {
        "id": "8sEYmEEeVFuR"
      },
      "source": [],
      "execution_count": null,
      "outputs": []
    }
  ]
}
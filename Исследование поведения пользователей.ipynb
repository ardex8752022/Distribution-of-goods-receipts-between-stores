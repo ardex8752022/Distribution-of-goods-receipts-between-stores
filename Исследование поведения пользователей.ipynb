{
  "nbformat": 4,
  "nbformat_minor": 0,
  "metadata": {
    "kernelspec": {
      "display_name": "Python 3",
      "language": "python",
      "name": "python3"
    },
    "language_info": {
      "codemirror_mode": {
        "name": "ipython",
        "version": 3
      },
      "file_extension": ".py",
      "mimetype": "text/x-python",
      "name": "python",
      "nbconvert_exporter": "python",
      "pygments_lexer": "ipython3",
      "version": "3.8.5"
    },
    "colab": {
      "provenance": [],
      "include_colab_link": true
    }
  },
  "cells": [
    {
      "cell_type": "markdown",
      "metadata": {
        "id": "view-in-github",
        "colab_type": "text"
      },
      "source": [
        "<a href=\"https://colab.research.google.com/github/ardex8752022/Distribution-of-goods-receipts-between-stores/blob/main/%D0%98%D1%81%D1%81%D0%BB%D0%B5%D0%B4%D0%BE%D0%B2%D0%B0%D0%BD%D0%B8%D0%B5%20%D0%BF%D0%BE%D0%B2%D0%B5%D0%B4%D0%B5%D0%BD%D0%B8%D1%8F%20%D0%BF%D0%BE%D0%BB%D1%8C%D0%B7%D0%BE%D0%B2%D0%B0%D1%82%D0%B5%D0%BB%D0%B5%D0%B9.ipynb\" target=\"_parent\"><img src=\"https://colab.research.google.com/assets/colab-badge.svg\" alt=\"Open In Colab\"/></a>"
      ]
    },
    {
      "cell_type": "markdown",
      "metadata": {
        "id": "va50dOzFwYQe"
      },
      "source": [
        "# САМОСТОЯТЕЛЬНАЯ РАБОТА"
      ]
    },
    {
      "cell_type": "markdown",
      "metadata": {
        "id": "Ld5DyBZ6wYQz"
      },
      "source": [
        "## Модуль GD3 Исследование поведения пользователей"
      ]
    },
    {
      "cell_type": "markdown",
      "metadata": {
        "id": "ikt7KSkxwYQ3"
      },
      "source": [
        "###  Необходимо проверить два предположения:\n",
        "\n",
        "1. Зависит ли вероятность оплаты от выбранного пользователем уровня сложности?\n",
        "2. Существует ли разница во времени между событиями регистрации и оплаты для разных групп пользователей с разным уровнем сложности?  \n",
        "\n",
        "\\* ***на основе данных пользователей, которые зарегистрировались в 2018 году (с 1 января по 31 декабря 2018 года включительно)***"
      ]
    },
    {
      "cell_type": "markdown",
      "metadata": {
        "id": "Xm0A0r4FwYQ6"
      },
      "source": [
        "### Этап 1\n",
        "1. **Подключение библиотек.**\n",
        "2. **Получение данных из файла**"
      ]
    },
    {
      "cell_type": "code",
      "metadata": {
        "id": "dFs97VQHwYQ-"
      },
      "source": [
        "import pandas as pd"
      ],
      "execution_count": null,
      "outputs": []
    },
    {
      "cell_type": "markdown",
      "metadata": {
        "id": "EBalyc0qwYRM"
      },
      "source": [
        "***получить данные можно двумя способами:***\n",
        "1. скачав файлы на диск C:\\ по ссылкам  \n",
        "* https://drive.google.com/u/0/uc?id=1eFox9NSDZoVxYkgZDcLQ74s1CJMqJf5H&export=download  \n",
        "* https://lms.skillfactory.ru/assets/courseware/v1/152189df573b5a352e2dae698e8d975c/asset-v1:Skillfactory+DAPR-1+14APR2020+type@asset+block/7_4_Purchase.csv\n",
        "2. сразу подключиться к ним по указанным ссылкам (несколько дольше по времени)  \n",
        "\n",
        "\\* по умолчанию выбран способ № 2"
      ]
    },
    {
      "cell_type": "code",
      "metadata": {
        "id": "8eerBwI4wYRQ"
      },
      "source": [
        "# Получение данных способ № 1\n",
        "\n",
        "# events_df = pd.read_csv('C:/7_4_Events.csv')\n",
        "# purchase_df = pd.read_csv('C:/7_4_Purchase.csv')"
      ],
      "execution_count": null,
      "outputs": []
    },
    {
      "cell_type": "code",
      "metadata": {
        "id": "LzNPtIdOwYRV"
      },
      "source": [
        "# Получение данных способ № 2\n",
        "\n",
        "events_df = pd.read_csv('https://drive.google.com/u/0/uc?id=1eFox9NSDZoVxYkgZDcLQ74s1CJMqJf5H&export=download')\n",
        "purchase_df = pd.read_csv('https://lms.skillfactory.ru/assets/courseware/v1/152189df573b5a352e2dae698e8d975c/asset-v1:Skillfactory+DAPR-1+14APR2020+type@asset+block/7_4_Purchase.csv')"
      ],
      "execution_count": null,
      "outputs": []
    },
    {
      "cell_type": "code",
      "metadata": {
        "id": "nLjM4Rz5wYRZ",
        "outputId": "e01bf018-9882-40ee-e0d2-ed494d167b50"
      },
      "source": [
        "events_df.head(3)"
      ],
      "execution_count": null,
      "outputs": [
        {
          "data": {
            "text/html": [
              "<div>\n",
              "<style scoped>\n",
              "    .dataframe tbody tr th:only-of-type {\n",
              "        vertical-align: middle;\n",
              "    }\n",
              "\n",
              "    .dataframe tbody tr th {\n",
              "        vertical-align: top;\n",
              "    }\n",
              "\n",
              "    .dataframe thead th {\n",
              "        text-align: right;\n",
              "    }\n",
              "</style>\n",
              "<table border=\"1\" class=\"dataframe\">\n",
              "  <thead>\n",
              "    <tr style=\"text-align: right;\">\n",
              "      <th></th>\n",
              "      <th>id</th>\n",
              "      <th>event_type</th>\n",
              "      <th>selected_level</th>\n",
              "      <th>start_time</th>\n",
              "      <th>tutorial_id</th>\n",
              "      <th>user_id</th>\n",
              "    </tr>\n",
              "  </thead>\n",
              "  <tbody>\n",
              "    <tr>\n",
              "      <th>0</th>\n",
              "      <td>28903</td>\n",
              "      <td>registration</td>\n",
              "      <td>NaN</td>\n",
              "      <td>2016-05-11T23:40:55</td>\n",
              "      <td>NaN</td>\n",
              "      <td>12583</td>\n",
              "    </tr>\n",
              "    <tr>\n",
              "      <th>1</th>\n",
              "      <td>28904</td>\n",
              "      <td>registration</td>\n",
              "      <td>NaN</td>\n",
              "      <td>2016-05-11T23:49:58</td>\n",
              "      <td>NaN</td>\n",
              "      <td>12584</td>\n",
              "    </tr>\n",
              "    <tr>\n",
              "      <th>2</th>\n",
              "      <td>28905</td>\n",
              "      <td>registration</td>\n",
              "      <td>NaN</td>\n",
              "      <td>2016-05-12T00:53:07</td>\n",
              "      <td>NaN</td>\n",
              "      <td>12585</td>\n",
              "    </tr>\n",
              "  </tbody>\n",
              "</table>\n",
              "</div>"
            ],
            "text/plain": [
              "      id    event_type selected_level           start_time  tutorial_id  \\\n",
              "0  28903  registration            NaN  2016-05-11T23:40:55          NaN   \n",
              "1  28904  registration            NaN  2016-05-11T23:49:58          NaN   \n",
              "2  28905  registration            NaN  2016-05-12T00:53:07          NaN   \n",
              "\n",
              "   user_id  \n",
              "0    12583  \n",
              "1    12584  \n",
              "2    12585  "
            ]
          },
          "execution_count": 1269,
          "metadata": {},
          "output_type": "execute_result"
        }
      ]
    },
    {
      "cell_type": "markdown",
      "metadata": {
        "id": "L6BwhZRqwYRh"
      },
      "source": [
        "**описание датафрейма events_df:**\n",
        "* id\tидентификатор события\n",
        "* event_type\tтип события\n",
        "* selected_level\tвыбранный уровень сложности обучения\n",
        "* start_time\tдата и время события\n",
        "* tutorial_id\tидентификатор обучения (этот идентификатор есть только у событий обучения)\n",
        "* user_id\tуникальный идентификатор пользователя приложения, который совершил событие"
      ]
    },
    {
      "cell_type": "code",
      "metadata": {
        "id": "zEt8Fwg9wYRk",
        "outputId": "c4bd0498-8ebf-44ab-9210-0e37bd7eb28d"
      },
      "source": [
        "purchase_df.head(3)"
      ],
      "execution_count": null,
      "outputs": [
        {
          "data": {
            "text/html": [
              "<div>\n",
              "<style scoped>\n",
              "    .dataframe tbody tr th:only-of-type {\n",
              "        vertical-align: middle;\n",
              "    }\n",
              "\n",
              "    .dataframe tbody tr th {\n",
              "        vertical-align: top;\n",
              "    }\n",
              "\n",
              "    .dataframe thead th {\n",
              "        text-align: right;\n",
              "    }\n",
              "</style>\n",
              "<table border=\"1\" class=\"dataframe\">\n",
              "  <thead>\n",
              "    <tr style=\"text-align: right;\">\n",
              "      <th></th>\n",
              "      <th>id</th>\n",
              "      <th>user_id</th>\n",
              "      <th>event_datetime</th>\n",
              "      <th>amount</th>\n",
              "    </tr>\n",
              "  </thead>\n",
              "  <tbody>\n",
              "    <tr>\n",
              "      <th>0</th>\n",
              "      <td>15674</td>\n",
              "      <td>12584</td>\n",
              "      <td>2016-05-12T10:34:16</td>\n",
              "      <td>100</td>\n",
              "    </tr>\n",
              "    <tr>\n",
              "      <th>1</th>\n",
              "      <td>15675</td>\n",
              "      <td>12985</td>\n",
              "      <td>2016-05-13T08:25:56</td>\n",
              "      <td>50</td>\n",
              "    </tr>\n",
              "    <tr>\n",
              "      <th>2</th>\n",
              "      <td>15676</td>\n",
              "      <td>12828</td>\n",
              "      <td>2016-05-13T16:33:46</td>\n",
              "      <td>50</td>\n",
              "    </tr>\n",
              "  </tbody>\n",
              "</table>\n",
              "</div>"
            ],
            "text/plain": [
              "      id  user_id       event_datetime  amount\n",
              "0  15674    12584  2016-05-12T10:34:16     100\n",
              "1  15675    12985  2016-05-13T08:25:56      50\n",
              "2  15676    12828  2016-05-13T16:33:46      50"
            ]
          },
          "execution_count": 1270,
          "metadata": {},
          "output_type": "execute_result"
        }
      ]
    },
    {
      "cell_type": "markdown",
      "metadata": {
        "id": "Zj2wRqO6wYRn"
      },
      "source": [
        "**описание датафрейма purchase_df:**\n",
        "* id\tидентификатор события\n",
        "* user_id\tуникальный идентификатор пользователя приложения, который совершил событие\n",
        "* event_datetime\tдата и время события/покупки\n",
        "* amount\tсумма оплаты"
      ]
    },
    {
      "cell_type": "markdown",
      "metadata": {
        "id": "g_1f1zZCwYRp"
      },
      "source": [
        "### Этап 2\n",
        "1. **Обзор данных**\n",
        "2. **Преобразование данных**"
      ]
    },
    {
      "cell_type": "markdown",
      "metadata": {
        "id": "XsxC090rwYRq"
      },
      "source": [
        "###### 1. Обзор данных\n",
        "1. Датафреймы содержат данные о пользователях, недовлетворяющих условию по дате регистрации\n",
        "2. Данные о времени представлены в строковом формате и нуждаются в преобразовании\n",
        "3. В датафрейм purchase_df необходимо добавить столбец с описанием события\n",
        "4. В датафрейм events_df столбец 'id' необходимо переименовать в 'event_id'\n",
        "5. В датафрейм events_df столбец 'start_time' необходимо переименовать в 'event_time'\n",
        "6. В датафрейм purchase_df столбец 'id' необходимо переименовать в 'purchase_id'\n",
        "7. В датафрейм purchase_df столбец 'event_datetime' необходимо переименовать в 'purchase_time'\n",
        "8. Датафреймы необходимо объединить"
      ]
    },
    {
      "cell_type": "markdown",
      "metadata": {
        "id": "8INopncZwYRu"
      },
      "source": [
        "###### 2. Преобразование данных"
      ]
    },
    {
      "cell_type": "code",
      "metadata": {
        "id": "lJPBV3XcwYRw"
      },
      "source": [
        "# Определение условий вхождения пользователей в целевую группу\n",
        "\n",
        "condition_1 = (events_df['event_type'] == 'registration')\n",
        "condition_2 = (events_df['start_time'] >= '2018-01-01')\n",
        "condition_3 = (events_df['start_time'] < '2019-01-01')\n",
        "conditions = condition_1 & condition_2 & condition_3"
      ],
      "execution_count": null,
      "outputs": []
    },
    {
      "cell_type": "code",
      "metadata": {
        "id": "O0tkrXH6wYR0"
      },
      "source": [
        "# Получение множества user_id пользователей, входящих в целевую группу\n",
        "\n",
        "user_id_set = set(events_df[conditions]['user_id'])"
      ],
      "execution_count": null,
      "outputs": []
    },
    {
      "cell_type": "code",
      "metadata": {
        "id": "cNQi6OEtwYR5"
      },
      "source": [
        "# Оставляем в датафреймах только записи пользователей, входящих в целевую группу\n",
        "\n",
        "events_df = events_df[events_df['user_id'].isin(user_id_set)]\n",
        "purchase_df = purchase_df[purchase_df['user_id'].isin(user_id_set)]"
      ],
      "execution_count": null,
      "outputs": []
    },
    {
      "cell_type": "code",
      "metadata": {
        "id": "08CnqGeCwYR-"
      },
      "source": [
        "# Преобразование данных строкового типа в данные типа datetime\n",
        "\n",
        "events_df['start_time'] = pd.to_datetime(events_df['start_time'])\n",
        "purchase_df['event_datetime'] = pd.to_datetime(purchase_df['event_datetime'])"
      ],
      "execution_count": null,
      "outputs": []
    },
    {
      "cell_type": "code",
      "metadata": {
        "id": "dtKD13b_wYSF"
      },
      "source": [
        "# Добавление в столбец датафрейм purchase_df столбца с описанием события\n",
        "\n",
        "purchase_df['event_type'] = 'purchase'"
      ],
      "execution_count": null,
      "outputs": []
    },
    {
      "cell_type": "code",
      "metadata": {
        "id": "Dr0TS3zmwYSS"
      },
      "source": [
        "# Переименование столбцов\n",
        "\n",
        "events_df = events_df.rename(columns={'id':'event_id'})\n",
        "events_df = events_df.rename(columns={'start_time':'event_time'})\n",
        "purchase_df = purchase_df.rename(columns={'id':'purchase_id'})\n",
        "purchase_df = purchase_df.rename(columns={'event_datetime':'purchase_time'})"
      ],
      "execution_count": null,
      "outputs": []
    },
    {
      "cell_type": "code",
      "metadata": {
        "id": "MEO6wrm_wYSX"
      },
      "source": [
        "# Объединение датафреймов\n",
        "\n",
        "total_events_df = pd.concat([events_df, purchase_df], sort=False)"
      ],
      "execution_count": null,
      "outputs": []
    },
    {
      "cell_type": "markdown",
      "metadata": {
        "id": "SzY13QndwYSg"
      },
      "source": [
        "### Этап 3\n",
        "1. **Выделение групп пользователей**"
      ]
    },
    {
      "cell_type": "code",
      "metadata": {
        "id": "BqEVWt7PwYSp",
        "colab": {
          "base_uri": "https://localhost:8080/",
          "height": 214
        },
        "outputId": "5150798e-920a-44ad-b9e5-e9d8aa69e755"
      },
      "source": [
        "# Определение типов сложности (без NaN-значений)\n",
        "\n",
        "level_set = set(x for x in set(total_events_df['selected_level']) if pd.isnull(x) == False)\n",
        "display(level_set)"
      ],
      "execution_count": null,
      "outputs": [
        {
          "output_type": "error",
          "ename": "NameError",
          "evalue": "ignored",
          "traceback": [
            "\u001b[0;31m---------------------------------------------------------------------------\u001b[0m",
            "\u001b[0;31mNameError\u001b[0m                                 Traceback (most recent call last)",
            "\u001b[0;32m<ipython-input-1-84f406ec5cc6>\u001b[0m in \u001b[0;36m<module>\u001b[0;34m()\u001b[0m\n\u001b[1;32m      1\u001b[0m \u001b[0;31m# Определение типов сложности (без NaN-значений)\u001b[0m\u001b[0;34m\u001b[0m\u001b[0;34m\u001b[0m\u001b[0;34m\u001b[0m\u001b[0m\n\u001b[1;32m      2\u001b[0m \u001b[0;34m\u001b[0m\u001b[0m\n\u001b[0;32m----> 3\u001b[0;31m \u001b[0mlevel_set\u001b[0m \u001b[0;34m=\u001b[0m \u001b[0mset\u001b[0m\u001b[0;34m(\u001b[0m\u001b[0mx\u001b[0m \u001b[0;32mfor\u001b[0m \u001b[0mx\u001b[0m \u001b[0;32min\u001b[0m \u001b[0mset\u001b[0m\u001b[0;34m(\u001b[0m\u001b[0mtotal_events_df\u001b[0m\u001b[0;34m[\u001b[0m\u001b[0;34m'selected_level'\u001b[0m\u001b[0;34m]\u001b[0m\u001b[0;34m)\u001b[0m \u001b[0;32mif\u001b[0m \u001b[0mpd\u001b[0m\u001b[0;34m.\u001b[0m\u001b[0misnull\u001b[0m\u001b[0;34m(\u001b[0m\u001b[0mx\u001b[0m\u001b[0;34m)\u001b[0m \u001b[0;34m==\u001b[0m \u001b[0;32mFalse\u001b[0m\u001b[0;34m)\u001b[0m\u001b[0;34m\u001b[0m\u001b[0;34m\u001b[0m\u001b[0m\n\u001b[0m\u001b[1;32m      4\u001b[0m \u001b[0mdisplay\u001b[0m\u001b[0;34m(\u001b[0m\u001b[0mlevel_set\u001b[0m\u001b[0;34m)\u001b[0m\u001b[0;34m\u001b[0m\u001b[0;34m\u001b[0m\u001b[0m\n",
            "\u001b[0;31mNameError\u001b[0m: name 'total_events_df' is not defined"
          ]
        }
      ]
    },
    {
      "cell_type": "code",
      "metadata": {
        "id": "xVhLv9i7wYSv"
      },
      "source": [
        "# Проверка отсутствия пользователей, совершивших выбор уровня сложности больше одного раза\n",
        "\n",
        "x = total_events_df[(total_events_df['selected_level'].isin(level_set))]\n",
        "x = x.groupby(['user_id'])\n",
        "x['selected_level'].count().mean() == 1"
      ],
      "execution_count": null,
      "outputs": []
    },
    {
      "cell_type": "code",
      "metadata": {
        "id": "8MC18snswYSx"
      },
      "source": [
        "# Выделение групп пользователей\n",
        "\n",
        "easy_level_user_id_set = set(total_events_df[total_events_df['selected_level'] == 'easy']['user_id'])\n",
        "medium_level_user_id_set = set(total_events_df[total_events_df['selected_level'] == 'medium']['user_id'])\n",
        "hard_level_user_id_set = set(total_events_df[total_events_df['selected_level'] == 'hard']['user_id'])"
      ],
      "execution_count": null,
      "outputs": []
    },
    {
      "cell_type": "code",
      "metadata": {
        "id": "PN37kY-DwYSz"
      },
      "source": [
        "# Проверка соответствия числа выделенных пользователей числу пользователей из исходного датасета, совершивщих выбор\n",
        "\n",
        "len(easy_level_user_id_set) + \\\n",
        "len(medium_level_user_id_set) + \\\n",
        "len(hard_level_user_id_set) \\\n",
        "== total_events_df[total_events_df['selected_level'].isin(level_set)]['user_id'].nunique()"
      ],
      "execution_count": null,
      "outputs": []
    },
    {
      "cell_type": "markdown",
      "metadata": {
        "id": "MYcvUQc9wYS1"
      },
      "source": [
        "### Этап 4\n",
        "1. **Расчёт для каждой группы процента оплат**"
      ]
    },
    {
      "cell_type": "code",
      "metadata": {
        "id": "EqJ9soylwYS2",
        "colab": {
          "base_uri": "https://localhost:8080/",
          "height": 231
        },
        "outputId": "51d67e64-dad6-4f27-d073-916eec409f35"
      },
      "source": [
        "# Определение для каждой группы числа пользователей, совершивших оплату\n",
        "# (приношу извинения за нелаконичные названия переменных)\n",
        "\n",
        "easy_level_with_purchase_user_id_count = total_events_df[(total_events_df['user_id'].isin(easy_level_user_id_set)) &\n",
        "               (total_events_df['event_type'] == 'purchase')]['user_id'].nunique()\n",
        "\n",
        "medium_level_with_purchase_user_id_count = total_events_df[(total_events_df['user_id'].isin(medium_level_user_id_set)) &\n",
        "               (total_events_df['event_type'] == 'purchase')]['user_id'].nunique()\n",
        "\n",
        "hard_level_with_purchase_user_id_count = total_events_df[(total_events_df['user_id'].isin(hard_level_user_id_set)) &\n",
        "               (total_events_df['event_type'] == 'purchase')]['user_id'].nunique()"
      ],
      "execution_count": null,
      "outputs": [
        {
          "output_type": "error",
          "ename": "NameError",
          "evalue": "ignored",
          "traceback": [
            "\u001b[0;31m---------------------------------------------------------------------------\u001b[0m",
            "\u001b[0;31mNameError\u001b[0m                                 Traceback (most recent call last)",
            "\u001b[0;32m<ipython-input-2-5e791ea823d1>\u001b[0m in \u001b[0;36m<module>\u001b[0;34m()\u001b[0m\n\u001b[1;32m      2\u001b[0m \u001b[0;31m# (приношу извинения за нелаконичные названия переменных)\u001b[0m\u001b[0;34m\u001b[0m\u001b[0;34m\u001b[0m\u001b[0;34m\u001b[0m\u001b[0m\n\u001b[1;32m      3\u001b[0m \u001b[0;34m\u001b[0m\u001b[0m\n\u001b[0;32m----> 4\u001b[0;31m easy_level_with_purchase_user_id_count = total_events_df[(total_events_df['user_id'].isin(easy_level_user_id_set)) &\n\u001b[0m\u001b[1;32m      5\u001b[0m                (total_events_df['event_type'] == 'purchase')]['user_id'].nunique()\n\u001b[1;32m      6\u001b[0m \u001b[0;34m\u001b[0m\u001b[0m\n",
            "\u001b[0;31mNameError\u001b[0m: name 'total_events_df' is not defined"
          ]
        }
      ]
    },
    {
      "cell_type": "code",
      "metadata": {
        "id": "DnpoCqJvwYS5",
        "colab": {
          "base_uri": "https://localhost:8080/",
          "height": 231
        },
        "outputId": "578f676c-cc6d-4de2-c5fc-832f084b674e"
      },
      "source": [
        "# Рассчёт процента оплат\n",
        "\n",
        "percent_of_purchase_easy_level = easy_level_with_purchase_user_id_count / len(easy_level_user_id_set)\n",
        "percent_of_purchase_medium_level = medium_level_with_purchase_user_id_count / len(medium_level_user_id_set)\n",
        "percent_of_purchase_hard_level = hard_level_with_purchase_user_id_count / len(hard_level_user_id_set)\n",
        "\n",
        "print ('Процент пользователей, совершивих оплату, от общего количества пользователей, выбравших easy_level: {:.2%}'\\\n",
        "       .format(percent_of_purchase_easy_level))\n",
        "print ('Процент пользователей, совершивих оплату, от общего количества пользователей, выбравших medium_level: {:.2%}'\\\n",
        "       .format(percent_of_purchase_medium_level))\n",
        "print ('Процент пользователей, совершивих оплату, от общего количества пользователей, выбравших hard_level: {:.2%}'\\\n",
        "       .format(percent_of_purchase_hard_level))"
      ],
      "execution_count": null,
      "outputs": [
        {
          "output_type": "error",
          "ename": "NameError",
          "evalue": "ignored",
          "traceback": [
            "\u001b[0;31m---------------------------------------------------------------------------\u001b[0m",
            "\u001b[0;31mNameError\u001b[0m                                 Traceback (most recent call last)",
            "\u001b[0;32m<ipython-input-3-539c1e283e37>\u001b[0m in \u001b[0;36m<module>\u001b[0;34m()\u001b[0m\n\u001b[1;32m      1\u001b[0m \u001b[0;31m# Рассчёт процента оплат\u001b[0m\u001b[0;34m\u001b[0m\u001b[0;34m\u001b[0m\u001b[0;34m\u001b[0m\u001b[0m\n\u001b[1;32m      2\u001b[0m \u001b[0;34m\u001b[0m\u001b[0m\n\u001b[0;32m----> 3\u001b[0;31m \u001b[0mpercent_of_purchase_easy_level\u001b[0m \u001b[0;34m=\u001b[0m \u001b[0measy_level_with_purchase_user_id_count\u001b[0m \u001b[0;34m/\u001b[0m \u001b[0mlen\u001b[0m\u001b[0;34m(\u001b[0m\u001b[0measy_level_user_id_set\u001b[0m\u001b[0;34m)\u001b[0m\u001b[0;34m\u001b[0m\u001b[0;34m\u001b[0m\u001b[0m\n\u001b[0m\u001b[1;32m      4\u001b[0m \u001b[0mpercent_of_purchase_medium_level\u001b[0m \u001b[0;34m=\u001b[0m \u001b[0mmedium_level_with_purchase_user_id_count\u001b[0m \u001b[0;34m/\u001b[0m \u001b[0mlen\u001b[0m\u001b[0;34m(\u001b[0m\u001b[0mmedium_level_user_id_set\u001b[0m\u001b[0;34m)\u001b[0m\u001b[0;34m\u001b[0m\u001b[0;34m\u001b[0m\u001b[0m\n\u001b[1;32m      5\u001b[0m \u001b[0mpercent_of_purchase_hard_level\u001b[0m \u001b[0;34m=\u001b[0m \u001b[0mhard_level_with_purchase_user_id_count\u001b[0m \u001b[0;34m/\u001b[0m \u001b[0mlen\u001b[0m\u001b[0;34m(\u001b[0m\u001b[0mhard_level_user_id_set\u001b[0m\u001b[0;34m)\u001b[0m\u001b[0;34m\u001b[0m\u001b[0;34m\u001b[0m\u001b[0m\n",
            "\u001b[0;31mNameError\u001b[0m: name 'easy_level_with_purchase_user_id_count' is not defined"
          ]
        }
      ]
    },
    {
      "cell_type": "markdown",
      "metadata": {
        "id": "lRyXpqt9wYS-"
      },
      "source": [
        "### Этап 5\n",
        "1. **Расчёт для каждой группы среднего времени между событиями выбора уровня сложности и покупкой.**"
      ]
    },
    {
      "cell_type": "code",
      "metadata": {
        "scrolled": true,
        "id": "spcuGFnPwYTC",
        "colab": {
          "base_uri": "https://localhost:8080/",
          "height": 231
        },
        "outputId": "703531f7-05e3-48f8-90b9-80930eac86f8"
      },
      "source": [
        "  # Создание датафреймов с событиями выбора уровня сложности\n",
        "\n",
        " easy_level_select_df = total_events_df[(total_events_df['user_id'].isin(easy_level_user_id_set)) &\n",
        "               (total_events_df['selected_level'].isin(level_set))][['user_id', 'event_time']]\n",
        "easy_level_select_df = easy_level_select_df.rename(columns={'event_time':'select_level_time'})\n",
        "\n",
        "\n",
        "medium_level_select_df = total_events_df[(total_events_df['user_id'].isin(medium_level_user_id_set)) &\n",
        "               (total_events_df['selected_level'].isin(level_set))][['user_id', 'event_time']]\n",
        "medium_level_select_df = medium_level_select_df.rename(columns={'event_time':'select_level_time'})\n",
        "\n",
        "\n",
        "hard_level_select_df = total_events_df[(total_events_df['user_id'].isin(hard_level_user_id_set)) &\n",
        "               (total_events_df['selected_level'].isin(level_set))][['user_id', 'event_time']]\n",
        "hard_level_select_df = hard_level_select_df.rename(columns={'event_time':'select_level_time'})"
      ],
      "execution_count": null,
      "outputs": [
        {
          "output_type": "error",
          "ename": "NameError",
          "evalue": "ignored",
          "traceback": [
            "\u001b[0;31m---------------------------------------------------------------------------\u001b[0m",
            "\u001b[0;31mNameError\u001b[0m                                 Traceback (most recent call last)",
            "\u001b[0;32m<ipython-input-1-9ddfdc8ef1a3>\u001b[0m in \u001b[0;36m<module>\u001b[0;34m()\u001b[0m\n\u001b[1;32m      1\u001b[0m \u001b[0;31m# Создание датафреймов с событиями выбора уровня сложности\u001b[0m\u001b[0;34m\u001b[0m\u001b[0;34m\u001b[0m\u001b[0;34m\u001b[0m\u001b[0m\n\u001b[1;32m      2\u001b[0m \u001b[0;34m\u001b[0m\u001b[0m\n\u001b[0;32m----> 3\u001b[0;31m easy_level_select_df = total_events_df[(total_events_df['user_id'].isin(easy_level_user_id_set)) &\n\u001b[0m\u001b[1;32m      4\u001b[0m                (total_events_df['selected_level'].isin(level_set))][['user_id', 'event_time']]\n\u001b[1;32m      5\u001b[0m \u001b[0measy_level_select_df\u001b[0m \u001b[0;34m=\u001b[0m \u001b[0measy_level_select_df\u001b[0m\u001b[0;34m.\u001b[0m\u001b[0mrename\u001b[0m\u001b[0;34m(\u001b[0m\u001b[0mcolumns\u001b[0m\u001b[0;34m=\u001b[0m\u001b[0;34m{\u001b[0m\u001b[0;34m'event_time'\u001b[0m\u001b[0;34m:\u001b[0m\u001b[0;34m'select_level_time'\u001b[0m\u001b[0;34m}\u001b[0m\u001b[0;34m)\u001b[0m\u001b[0;34m\u001b[0m\u001b[0;34m\u001b[0m\u001b[0m\n",
            "\u001b[0;31mNameError\u001b[0m: name 'total_events_df' is not defined"
          ]
        }
      ]
    },
    {
      "cell_type": "code",
      "metadata": {
        "id": "LFEl0SU4wYTH"
      },
      "source": [
        "# Создание датафреймов с событиями оплаты\n",
        "\n",
        "easy_level_purchase_df = total_events_df[(total_events_df['user_id'].isin(easy_level_user_id_set)) &\n",
        "               (total_events_df['event_type'] == 'purchase')][['user_id', 'purchase_time']]\n",
        "\n",
        "medium_level_purchase_df = total_events_df[(total_events_df['user_id'].isin(medium_level_user_id_set)) &\n",
        "               (total_events_df['event_type'] == 'purchase')][['user_id', 'purchase_time']]\n",
        "\n",
        "hard_level_purchase_df = total_events_df[(total_events_df['user_id'].isin(hard_level_user_id_set)) &\n",
        "               (total_events_df['event_type'] == 'purchase')][['user_id', 'purchase_time']]"
      ],
      "execution_count": null,
      "outputs": []
    },
    {
      "cell_type": "code",
      "metadata": {
        "id": "GbKvcQbnwYTJ"
      },
      "source": [
        "# Определение датафреймов в рамках одной группы\n",
        "\n",
        "easy_level_total_df = easy_level_select_df.merge(easy_level_purchase_df,on='user_id',how='inner')\n",
        "medium_level_total_df = medium_level_select_df.merge(medium_level_purchase_df,on='user_id',how='inner')\n",
        "hard_level_total_df = hard_level_select_df.merge(hard_level_purchase_df,on='user_id',how='inner')"
      ],
      "execution_count": null,
      "outputs": []
    },
    {
      "cell_type": "code",
      "metadata": {
        "id": "X4vJsGdawYTL"
      },
      "source": [
        "# Вычисление разницы во времени между событиями для каждого пользователя\n",
        "\n",
        "easy_level_total_df['timedelta'] = easy_level_total_df['purchase_time'] - easy_level_total_df['select_level_time']\n",
        "medium_level_total_df['timedelta'] = medium_level_total_df['purchase_time'] - medium_level_total_df['select_level_time']\n",
        "hard_level_total_df['timedelta'] = hard_level_total_df['purchase_time'] - hard_level_total_df['select_level_time']"
      ],
      "execution_count": null,
      "outputs": []
    },
    {
      "cell_type": "code",
      "metadata": {
        "id": "W8Vojg1gwYTO"
      },
      "source": [
        "# Вычисление среднего времени между событиями выбора уровня и оплаты для каждой группы (в секундах)\n",
        "\n",
        "easy_level_time_sec = int(easy_level_total_df['timedelta'].mean().total_seconds())\n",
        "medium_level_time_sec = int(medium_level_total_df['timedelta'].mean().total_seconds())\n",
        "hard_level_time_sec = int(hard_level_total_df['timedelta'].mean().total_seconds())"
      ],
      "execution_count": null,
      "outputs": []
    },
    {
      "cell_type": "code",
      "metadata": {
        "id": "RCj7cJ81wYTQ"
      },
      "source": [
        "# Перевод среднего времени в секундах в привычный вид\n",
        "\n",
        "easy_level_time_norm = str(timedelta(seconds=easy_level_time_sec))\n",
        "medium_level_time_norm = str(timedelta(seconds=medium_level_time_sec))\n",
        "hard_level_time_norm = str(timedelta(seconds=hard_level_time_sec))"
      ],
      "execution_count": null,
      "outputs": []
    },
    {
      "cell_type": "code",
      "metadata": {
        "id": "7OgYe2fXwYTS"
      },
      "source": [
        "# Вывод данных на экран\n",
        "\n",
        "print(f'Среднее время между выбором уровня сложности и оплатой для пользователей, \\\n",
        "выбравших easy_level: {easy_level_time_norm}')\n",
        "\n",
        "print(f'Среднее время между выбором уровня сложности и оплатой для пользователей, \\\n",
        "выбравших medium_level: {medium_level_time_norm}')\n",
        "\n",
        "print(f'Среднее время между выбором уровня сложности и оплатой для пользователей, \\\n",
        "выбравших hard_level: {hard_level_time_norm}')"
      ],
      "execution_count": null,
      "outputs": []
    },
    {
      "cell_type": "markdown",
      "metadata": {
        "id": "F70ZSx-IwYTV"
      },
      "source": [
        "### Этап 6 Выводы"
      ]
    },
    {
      "cell_type": "markdown",
      "metadata": {
        "id": "X-7dwUvPwYTa"
      },
      "source": [
        "1. Рост пользователей, совершивших оплату, положительно коррелирует с выбранным уровнем сложности. Возможно это говорит о том, что пользователи, выбирающие medium_level и hard_level изначально более мотивированы играть именно на эту игру (или игры такого типа в целом)и целенаправленно выбрали её. Пользователи, выбравшие, easy_level, скорее всего, не являются фанатами игр подобного типа.  \n",
        "2. Из полученных данных не следует какой-либо значительно корреляции между временем, прошедшим с момента выбора уровня сложности до момента покупки.\n",
        "3. Я считаю, что получившиеся 20.86% и 35.39% -- недостаточные показатели. Если это предположение и предположение из пункта 1.  верны, это говорит о том, что продукту не хватает фич, делающих его уникальным и (или) выгодно отличающимся от конкуретнов. Но это очень поверхностный вывод, так как для полноценного анализа необходимо знать, какой процент покупок считается нормальным. ВОзможно, что получившиеся 20.86% и 35.39% являются хорошим показателем."
      ]
    },
    {
      "cell_type": "markdown",
      "metadata": {
        "id": "7_OuZN7jwYTg"
      },
      "source": [
        "### Этап 7 Дополнительный\n",
        "1. **Расчёт для каждой группы среднего времени между событиями регистрации и покупкой.**"
      ]
    },
    {
      "cell_type": "code",
      "metadata": {
        "id": "0LujKOAnwYTj"
      },
      "source": [
        "# Создание датафреймов с событиями регистрации\n",
        "\n",
        "easy_level_registration_df = total_events_df[(total_events_df['user_id'].isin(easy_level_user_id_set)) &\n",
        "               (total_events_df['event_type'] == 'registration')][['user_id', 'event_time']]\n",
        "easy_level_registration_df = easy_level_registration_df.rename(columns={'event_time':'registration_time'})\n",
        "\n",
        "medium_level_registration_df = total_events_df[(total_events_df['user_id'].isin(medium_level_user_id_set)) &\n",
        "               (total_events_df['event_type'] == 'registration')][['user_id', 'event_time']]\n",
        "medium_level_registration_df = medium_level_registration_df.rename(columns={'event_time':'registration_time'})\n",
        "\n",
        "hard_level_registration_df = total_events_df[(total_events_df['user_id'].isin(hard_level_user_id_set)) &\n",
        "               (total_events_df['event_type'] == 'registration')][['user_id', 'event_time']]\n",
        "hard_level_registration_df = hard_level_registration_df.rename(columns={'event_time':'registration_time'})"
      ],
      "execution_count": null,
      "outputs": []
    },
    {
      "cell_type": "code",
      "metadata": {
        "id": "YusvqsVIwYTn"
      },
      "source": [
        "# Датафреймы с событиями оплаты уже созданы:\n",
        "\n",
        "# easy_level_purchase_df\n",
        "# medium_level_purchase_df\n",
        "# hard_level_purchase_df"
      ],
      "execution_count": null,
      "outputs": []
    },
    {
      "cell_type": "code",
      "metadata": {
        "id": "PhaA2aGhwYTp"
      },
      "source": [
        "# Определение датафреймов в рамках одной группы, использую теже имена переменных\n",
        "\n",
        "easy_level_total_df = easy_level_registration_df.merge(easy_level_purchase_df,on='user_id',how='inner')\n",
        "medium_level_total_df = medium_level_registration_df.merge(medium_level_purchase_df,on='user_id',how='inner')\n",
        "hard_level_total_df = hard_level_registration_df.merge(hard_level_purchase_df,on='user_id',how='inner')"
      ],
      "execution_count": null,
      "outputs": []
    },
    {
      "cell_type": "code",
      "metadata": {
        "id": "-tulGtNUwYTs"
      },
      "source": [
        "# Вычисление разницы во времени между событиями для каждого пользователя, использую теже имена переменных\n",
        "\n",
        "easy_level_total_df['timedelta'] = easy_level_total_df['purchase_time'] - easy_level_total_df['registration_time']\n",
        "medium_level_total_df['timedelta'] = medium_level_total_df['purchase_time'] - medium_level_total_df['registration_time']\n",
        "hard_level_total_df['timedelta'] = hard_level_total_df['purchase_time'] - hard_level_total_df['registration_time']"
      ],
      "execution_count": null,
      "outputs": []
    },
    {
      "cell_type": "code",
      "metadata": {
        "id": "r-8-xbnCwYTu"
      },
      "source": [
        "# Вычисление среднего времени между событиями регистрации и оплаты для каждой группы (в секундах)\n",
        "\n",
        "easy_level_time_sec_2 = int(easy_level_total_df['timedelta'].mean().total_seconds())\n",
        "medium_level_time_sec_2 = int(medium_level_total_df['timedelta'].mean().total_seconds())\n",
        "hard_level_time_sec_2 = int(hard_level_total_df['timedelta'].mean().total_seconds())"
      ],
      "execution_count": null,
      "outputs": []
    },
    {
      "cell_type": "code",
      "metadata": {
        "id": "Om3UHQuWwYTw"
      },
      "source": [
        "# Перевод среднего времени между событиями регистрации и оплаты в секундах в привычный вид\n",
        "\n",
        "easy_level_time_norm_2 = str(timedelta(seconds=easy_level_time_sec_2))\n",
        "medium_level_time_norm_2 = str(timedelta(seconds=medium_level_time_sec_2))\n",
        "hard_level_time_norm_2 = str(timedelta(seconds=hard_level_time_sec_2))"
      ],
      "execution_count": null,
      "outputs": []
    },
    {
      "cell_type": "code",
      "metadata": {
        "id": "RCP4H4WmwYT0"
      },
      "source": [
        "# Вычисление среднего времени между событиями регистрации и выбора уровня для каждой группы (в секундах)\n",
        "\n",
        "easy_level_time_sec_3 = easy_level_time_sec_2 - easy_level_time_sec\n",
        "medium_level_time_sec_3 = medium_level_time_sec_2 - medium_level_time_sec\n",
        "hard_level_time_sec_3 = hard_level_time_sec_2 - hard_level_time_sec"
      ],
      "execution_count": null,
      "outputs": []
    },
    {
      "cell_type": "code",
      "metadata": {
        "id": "oyxGeNdKwYT2"
      },
      "source": [
        "# Перевод среднего времени между событиями регистрации и выбора уровня в секундах в привычный вид\n",
        "\n",
        "easy_level_time_norm_3 = str(timedelta(seconds=easy_level_time_sec_3))\n",
        "medium_level_time_norm_3 = str(timedelta(seconds=medium_level_time_sec_3))\n",
        "hard_level_time_norm_3 = str(timedelta(seconds=hard_level_time_sec_3))"
      ],
      "execution_count": null,
      "outputs": []
    },
    {
      "cell_type": "code",
      "metadata": {
        "scrolled": true,
        "id": "BauBRgr1wYT4",
        "outputId": "d26d8f3f-a9ac-492f-a34a-e6b4c911c997"
      },
      "source": [
        "# Вывод данных на экран\n",
        "\n",
        "print(f'Среднее время между регистрацией и оплатой для пользователей, \\\n",
        "выбравших easy_level: {easy_level_time_norm_2}')\n",
        "\n",
        "print(f'Среднее время между регистрацией и оплатой для пользователей, \\\n",
        "выбравших medium_level: {medium_level_time_norm_2}')\n",
        "\n",
        "print(f'Среднее время между регистрацией и оплатой для пользователей, \\\n",
        "выбравших hard_level: {hard_level_time_norm_2}')\n",
        "\n",
        "print(f'Среднее время между регистрацией и выбором уровня для пользователей, \\\n",
        "выбравших easy_level: {easy_level_time_norm_3}')\n",
        "\n",
        "print(f'Среднее время между регистрацией и выбором уровня для пользователей, \\\n",
        "выбравших medium_level: {medium_level_time_norm_3}')\n",
        "\n",
        "print(f'Среднее время между регистрацией и выбором уровня для пользователей, \\\n",
        "выбравших hard_level: {hard_level_time_norm_3}')"
      ],
      "execution_count": null,
      "outputs": [
        {
          "name": "stdout",
          "output_type": "stream",
          "text": [
            "Среднее время между регистрацией и оплатой для пользователей, выбравших easy_level: 3 days, 22:10:23\n",
            "Среднее время между регистрацией и оплатой для пользователей, выбравших medium_level: 4 days, 6:12:06\n",
            "Среднее время между регистрацией и оплатой для пользователей, выбравших hard_level: 3 days, 14:55:19\n",
            "Среднее время между регистрацией и выбором уровня для пользователей, выбравших easy_level: 7:11:31\n",
            "Среднее время между регистрацией и выбором уровня для пользователей, выбравших medium_level: 6:57:53\n",
            "Среднее время между регистрацией и выбором уровня для пользователей, выбравших hard_level: 7:34:38\n"
          ]
        }
      ]
    },
    {
      "cell_type": "markdown",
      "metadata": {
        "id": "DZxD9_aawYT7"
      },
      "source": [
        "### Дополнительные выводы"
      ]
    },
    {
      "cell_type": "markdown",
      "metadata": {
        "id": "3xT0qtfCwYT9"
      },
      "source": [
        "Похоже, что для всех групп пользователей время между регистрацией и выбором уровня примерно одинаковое -- в районе семи часов. К данным о среднем время между выбором уровня сложности и оплатой это ничего не добавляет. Сделать выводы по этим данным не представляется возможным."
      ]
    }
  ]
}